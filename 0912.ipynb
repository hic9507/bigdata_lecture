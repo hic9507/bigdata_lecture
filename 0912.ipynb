{
 "cells": [
  {
   "cell_type": "code",
   "execution_count": 1,
   "id": "62e7c572",
   "metadata": {},
   "outputs": [
    {
     "name": "stdout",
     "output_type": "stream",
     "text": [
      "10 40 50\n"
     ]
    }
   ],
   "source": [
    "i = 10\n",
    "j = 40\n",
    "print(i, j, (i+j))"
   ]
  },
  {
   "cell_type": "code",
   "execution_count": 2,
   "id": "779d9008",
   "metadata": {},
   "outputs": [
    {
     "name": "stdout",
     "output_type": "stream",
     "text": [
      "안녕하세요\n"
     ]
    }
   ],
   "source": [
    "str1 = '안녕하세요'\n",
    "print(str1)"
   ]
  },
  {
   "cell_type": "code",
   "execution_count": 3,
   "id": "888756f3",
   "metadata": {},
   "outputs": [
    {
     "name": "stdout",
     "output_type": "stream",
     "text": [
      "Python is fun\n"
     ]
    }
   ],
   "source": [
    "str2 = \"Python is fun\"\n",
    "print(str2)"
   ]
  },
  {
   "cell_type": "code",
   "execution_count": 4,
   "id": "57f38bb1",
   "metadata": {},
   "outputs": [
    {
     "name": "stdout",
     "output_type": "stream",
     "text": [
      "Python is Fun\n"
     ]
    }
   ],
   "source": [
    "str3 = \"Python is \"\"Fun\"\n",
    "print(str3)"
   ]
  },
  {
   "cell_type": "code",
   "execution_count": 5,
   "id": "17fcaabd",
   "metadata": {},
   "outputs": [
    {
     "name": "stdout",
     "output_type": "stream",
     "text": [
      "Python is \n",
      " Fun\n"
     ]
    }
   ],
   "source": [
    "str4 = 'Python is \\n Fun'\n",
    "print(str4)"
   ]
  },
  {
   "cell_type": "code",
   "execution_count": 11,
   "id": "212b944c",
   "metadata": {},
   "outputs": [
    {
     "name": "stdout",
     "output_type": "stream",
     "text": [
      "문자입력 : 환영합니다. Python 을 배우게 되어 영광입니다.\n",
      "환영합니다. Python 을 배우게 되어 영광입니다.\n"
     ]
    }
   ],
   "source": [
    "str5 = input(\"문자입력 : \")\n",
    "print(str5)"
   ]
  },
  {
   "cell_type": "code",
   "execution_count": 16,
   "id": "760270e2",
   "metadata": {},
   "outputs": [
    {
     "name": "stdout",
     "output_type": "stream",
     "text": [
      "I eat 3 apples\n"
     ]
    }
   ],
   "source": [
    "str6 = 'I eat %d apples' %3\n",
    "print(str6)"
   ]
  },
  {
   "cell_type": "code",
   "execution_count": 19,
   "id": "b66d6fc3",
   "metadata": {},
   "outputs": [
    {
     "name": "stdout",
     "output_type": "stream",
     "text": [
      "I eat three apples\n"
     ]
    }
   ],
   "source": [
    "str7 = 'I eat %s apples' %'three'\n",
    "print(str7)"
   ]
  },
  {
   "cell_type": "code",
   "execution_count": 22,
   "id": "4bf9f7be",
   "metadata": {},
   "outputs": [
    {
     "name": "stdout",
     "output_type": "stream",
     "text": [
      "a = 10 = three\n"
     ]
    }
   ],
   "source": [
    "number = 10\n",
    "day = 'three'\n",
    "str8 = 'a = %d = %s' %(number, day)\n",
    "print(str8)"
   ]
  },
  {
   "cell_type": "code",
   "execution_count": 23,
   "id": "c1d345d4",
   "metadata": {},
   "outputs": [
    {
     "name": "stdout",
     "output_type": "stream",
     "text": [
      "안녕하세요Python is \n",
      " Fun\n"
     ]
    }
   ],
   "source": [
    "print(str1 + str4)"
   ]
  },
  {
   "cell_type": "code",
   "execution_count": 24,
   "id": "31904577",
   "metadata": {},
   "outputs": [
    {
     "name": "stdout",
     "output_type": "stream",
     "text": [
      "I eat three applesI eat three applesI eat three apples\n"
     ]
    }
   ],
   "source": [
    "print(str7 * 3)"
   ]
  },
  {
   "cell_type": "code",
   "execution_count": 26,
   "id": "2f47961a",
   "metadata": {},
   "outputs": [
    {
     "data": {
      "text/plain": [
       "'H'"
      ]
     },
     "execution_count": 26,
     "metadata": {},
     "output_type": "execute_result"
    }
   ],
   "source": [
    "str9 = \"Hello World\"\n",
    "str9[0]"
   ]
  },
  {
   "cell_type": "code",
   "execution_count": 27,
   "id": "8f521db7",
   "metadata": {},
   "outputs": [
    {
     "data": {
      "text/plain": [
       "'d'"
      ]
     },
     "execution_count": 27,
     "metadata": {},
     "output_type": "execute_result"
    }
   ],
   "source": [
    "str9[-1]"
   ]
  },
  {
   "cell_type": "code",
   "execution_count": 28,
   "id": "e6fa6b66",
   "metadata": {},
   "outputs": [
    {
     "name": "stdout",
     "output_type": "stream",
     "text": [
      "Hello World\n"
     ]
    }
   ],
   "source": [
    "print(str9[:])"
   ]
  },
  {
   "cell_type": "code",
   "execution_count": 29,
   "id": "73b145fe",
   "metadata": {},
   "outputs": [
    {
     "name": "stdout",
     "output_type": "stream",
     "text": [
      "Hello Worl\n"
     ]
    }
   ],
   "source": [
    "print(str9[:-1])"
   ]
  },
  {
   "cell_type": "code",
   "execution_count": 33,
   "id": "d0be208d",
   "metadata": {},
   "outputs": [
    {
     "name": "stdout",
     "output_type": "stream",
     "text": [
      "Hello W\n"
     ]
    }
   ],
   "source": [
    "print(str9[:7])"
   ]
  },
  {
   "cell_type": "code",
   "execution_count": 34,
   "id": "fd0d9086",
   "metadata": {},
   "outputs": [
    {
     "name": "stdout",
     "output_type": "stream",
     "text": [
      "World\n"
     ]
    }
   ],
   "source": [
    "print(str9[6:])"
   ]
  },
  {
   "cell_type": "code",
   "execution_count": 35,
   "id": "314e0d3f",
   "metadata": {},
   "outputs": [
    {
     "data": {
      "text/plain": [
       "'World'"
      ]
     },
     "execution_count": 35,
     "metadata": {},
     "output_type": "execute_result"
    }
   ],
   "source": [
    "str9[6:]"
   ]
  },
  {
   "cell_type": "code",
   "execution_count": 36,
   "id": "b39d00ef",
   "metadata": {},
   "outputs": [
    {
     "data": {
      "text/plain": [
       "'I eat three apples'"
      ]
     },
     "execution_count": 36,
     "metadata": {},
     "output_type": "execute_result"
    }
   ],
   "source": [
    "str7"
   ]
  },
  {
   "cell_type": "code",
   "execution_count": 37,
   "id": "1e0a419c",
   "metadata": {},
   "outputs": [
    {
     "data": {
      "text/plain": [
       "'I EAT THREE APPLES'"
      ]
     },
     "execution_count": 37,
     "metadata": {},
     "output_type": "execute_result"
    }
   ],
   "source": [
    "str7.upper()"
   ]
  },
  {
   "cell_type": "code",
   "execution_count": 39,
   "id": "e265f264",
   "metadata": {},
   "outputs": [
    {
     "data": {
      "text/plain": [
       "'i eat three apples'"
      ]
     },
     "execution_count": 39,
     "metadata": {},
     "output_type": "execute_result"
    }
   ],
   "source": [
    "str7.lower()"
   ]
  },
  {
   "cell_type": "code",
   "execution_count": 40,
   "id": "ce300dd0",
   "metadata": {},
   "outputs": [
    {
     "data": {
      "text/plain": [
       "'I EAT THREE APPLES'"
      ]
     },
     "execution_count": 40,
     "metadata": {},
     "output_type": "execute_result"
    }
   ],
   "source": [
    "str10 = str7.upper()\n",
    "str10"
   ]
  },
  {
   "cell_type": "code",
   "execution_count": 41,
   "id": "6821c0d5",
   "metadata": {},
   "outputs": [
    {
     "name": "stdout",
     "output_type": "stream",
     "text": [
      "18\n"
     ]
    }
   ],
   "source": [
    "print(len(str7))"
   ]
  },
  {
   "cell_type": "code",
   "execution_count": 43,
   "id": "a44ea8f9",
   "metadata": {},
   "outputs": [
    {
     "data": {
      "text/plain": [
       "17"
      ]
     },
     "execution_count": 43,
     "metadata": {},
     "output_type": "execute_result"
    }
   ],
   "source": [
    "str7.find('s')"
   ]
  },
  {
   "cell_type": "code",
   "execution_count": 44,
   "id": "cc377710",
   "metadata": {},
   "outputs": [],
   "source": [
    "ch, str11 = '충북', '대학교 소프트웨어학과'"
   ]
  },
  {
   "cell_type": "code",
   "execution_count": 45,
   "id": "cc809cb7",
   "metadata": {},
   "outputs": [
    {
     "name": "stdout",
     "output_type": "stream",
     "text": [
      "대충북학충북교충북 충북소충북프충북트충북웨충북어충북학충북과\n"
     ]
    }
   ],
   "source": [
    "ch.join(str11)\n",
    "print(ch.join(str11))"
   ]
  },
  {
   "cell_type": "code",
   "execution_count": 46,
   "id": "8b4bc028",
   "metadata": {},
   "outputs": [
    {
     "data": {
      "text/plain": [
       "'대충북학충북교충북 충북소충북프충북트충북웨충북어충북학충북과'"
      ]
     },
     "execution_count": 46,
     "metadata": {},
     "output_type": "execute_result"
    }
   ],
   "source": [
    "ch.join(str11)"
   ]
  },
  {
   "cell_type": "code",
   "execution_count": 47,
   "id": "e84c38f9",
   "metadata": {},
   "outputs": [
    {
     "data": {
      "text/plain": [
       "'충대학교 소프트웨어학과북'"
      ]
     },
     "execution_count": 47,
     "metadata": {},
     "output_type": "execute_result"
    }
   ],
   "source": [
    "str11.join(ch)"
   ]
  },
  {
   "cell_type": "code",
   "execution_count": 48,
   "id": "96cad8ad",
   "metadata": {},
   "outputs": [],
   "source": [
    "ch, str11 = '     충북     ', '     대학교 소프트웨어학과     '"
   ]
  },
  {
   "cell_type": "code",
   "execution_count": 49,
   "id": "0af28a18",
   "metadata": {},
   "outputs": [
    {
     "data": {
      "text/plain": [
       "('     충북     ', '     대학교 소프트웨어학과     ')"
      ]
     },
     "execution_count": 49,
     "metadata": {},
     "output_type": "execute_result"
    }
   ],
   "source": [
    "ch, str11"
   ]
  },
  {
   "cell_type": "code",
   "execution_count": 54,
   "id": "841aea53",
   "metadata": {},
   "outputs": [
    {
     "data": {
      "text/plain": [
       "'     충북     '"
      ]
     },
     "execution_count": 54,
     "metadata": {},
     "output_type": "execute_result"
    }
   ],
   "source": [
    "ch"
   ]
  },
  {
   "cell_type": "code",
   "execution_count": 51,
   "id": "f08e3a01",
   "metadata": {},
   "outputs": [
    {
     "data": {
      "text/plain": [
       "'충북     '"
      ]
     },
     "execution_count": 51,
     "metadata": {},
     "output_type": "execute_result"
    }
   ],
   "source": [
    "ch.lstrip()"
   ]
  },
  {
   "cell_type": "code",
   "execution_count": 52,
   "id": "658f0d69",
   "metadata": {},
   "outputs": [
    {
     "data": {
      "text/plain": [
       "'     충북'"
      ]
     },
     "execution_count": 52,
     "metadata": {},
     "output_type": "execute_result"
    }
   ],
   "source": [
    "ch.rstrip()"
   ]
  },
  {
   "cell_type": "code",
   "execution_count": 53,
   "id": "345533b0",
   "metadata": {},
   "outputs": [
    {
     "data": {
      "text/plain": [
       "'충북'"
      ]
     },
     "execution_count": 53,
     "metadata": {},
     "output_type": "execute_result"
    }
   ],
   "source": [
    "ch.strip()"
   ]
  },
  {
   "cell_type": "code",
   "execution_count": 55,
   "id": "08730dc2",
   "metadata": {},
   "outputs": [
    {
     "data": {
      "text/plain": [
       "['대학교', '소프트웨어학과']"
      ]
     },
     "execution_count": 55,
     "metadata": {},
     "output_type": "execute_result"
    }
   ],
   "source": [
    "str11.split()"
   ]
  },
  {
   "cell_type": "code",
   "execution_count": 57,
   "id": "9dd484af",
   "metadata": {},
   "outputs": [
    {
     "data": {
      "text/plain": [
       "'     대학교 소프트웨어학과     '"
      ]
     },
     "execution_count": 57,
     "metadata": {},
     "output_type": "execute_result"
    }
   ],
   "source": [
    "str11.replace(\"소프트웨어학과\", \"SW\")\n",
    "str11"
   ]
  },
  {
   "cell_type": "code",
   "execution_count": 58,
   "id": "78c2d316",
   "metadata": {},
   "outputs": [
    {
     "name": "stdout",
     "output_type": "stream",
     "text": [
      "     대학교 소프트웨어학과     \n"
     ]
    }
   ],
   "source": [
    "str11.replace(\"소프트웨어학과\", \"SW\")\n",
    "print(str11)"
   ]
  },
  {
   "cell_type": "code",
   "execution_count": null,
   "id": "201d15a7",
   "metadata": {},
   "outputs": [],
   "source": []
  }
 ],
 "metadata": {
  "kernelspec": {
   "display_name": "Python 3 (ipykernel)",
   "language": "python",
   "name": "python3"
  },
  "language_info": {
   "codemirror_mode": {
    "name": "ipython",
    "version": 3
   },
   "file_extension": ".py",
   "mimetype": "text/x-python",
   "name": "python",
   "nbconvert_exporter": "python",
   "pygments_lexer": "ipython3",
   "version": "3.7.13"
  }
 },
 "nbformat": 4,
 "nbformat_minor": 5
}
