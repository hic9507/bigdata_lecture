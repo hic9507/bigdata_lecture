{
 "cells": [
  {
   "cell_type": "code",
   "execution_count": 1,
   "id": "1ed1cf00",
   "metadata": {},
   "outputs": [
    {
     "name": "stdout",
     "output_type": "stream",
     "text": [
      "[1 2 3]\n",
      "arr1의 array 형태:  (3,)\n",
      "[[1 2 3]\n",
      " [4 5 6]]\n",
      "arr2의 array 형태:  (2, 3)\n",
      "[[[1 2 3]\n",
      "  [4 5 6]\n",
      "  [7 8 9]]]\n",
      "arr3의 array 형태:  (1, 3, 3)\n"
     ]
    }
   ],
   "source": [
    "import numpy as np\n",
    "\n",
    "# 1-d array\n",
    "arr1 = np.array([1,2,3])\n",
    "print(arr1)\n",
    "print('arr1의 array 형태: ', arr1.shape)\n",
    "\n",
    "# 2-d array\n",
    "arr2 = np.array([[1,2,3], [4,5,6]])\n",
    "print(arr2)\n",
    "print('arr2의 array 형태: ', arr2.shape)\n",
    "\n",
    "#3-d array\n",
    "arr3 = np.array([[[1,2,3,], [4,5,6], [7,8,9]]])\n",
    "print(arr3)\n",
    "print('arr3의 array 형태: ', arr3.shape)"
   ]
  },
  {
   "cell_type": "code",
   "execution_count": 5,
   "id": "954269eb",
   "metadata": {},
   "outputs": [
    {
     "name": "stdout",
     "output_type": "stream",
     "text": [
      "<class 'list'>\n",
      "<class 'numpy.ndarray'>\n",
      "[1.5 2.4 3.7] float64\n"
     ]
    }
   ],
   "source": [
    "list1 = [1.5, 2.4, 3.7]\n",
    "print(type(list1))\n",
    "arr1 = np.array(list1)\n",
    "print(type(arr1))\n",
    "print(arr1, arr1.dtype)"
   ]
  },
  {
   "cell_type": "code",
   "execution_count": 6,
   "id": "a912aa16",
   "metadata": {},
   "outputs": [
    {
     "name": "stdout",
     "output_type": "stream",
     "text": [
      "['1' '2' 'test'] <U11\n"
     ]
    }
   ],
   "source": [
    "list2 = [1, 2, 'test']\n",
    "arr2 = np.array(list2)\n",
    "print(arr2, arr2.dtype)"
   ]
  },
  {
   "cell_type": "code",
   "execution_count": null,
   "id": "d55b9291",
   "metadata": {},
   "outputs": [],
   "source": []
  }
 ],
 "metadata": {
  "kernelspec": {
   "display_name": "Python 3 (ipykernel)",
   "language": "python",
   "name": "python3"
  },
  "language_info": {
   "codemirror_mode": {
    "name": "ipython",
    "version": 3
   },
   "file_extension": ".py",
   "mimetype": "text/x-python",
   "name": "python",
   "nbconvert_exporter": "python",
   "pygments_lexer": "ipython3",
   "version": "3.7.13"
  }
 },
 "nbformat": 4,
 "nbformat_minor": 5
}
