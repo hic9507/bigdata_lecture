{
 "cells": [
  {
   "cell_type": "code",
   "execution_count": 1,
   "id": "ee908832",
   "metadata": {},
   "outputs": [
    {
     "name": "stdout",
     "output_type": "stream",
     "text": [
      "30\n"
     ]
    }
   ],
   "source": [
    "i = 10\n",
    "j = 20\n",
    "print(i+j)"
   ]
  },
  {
   "cell_type": "code",
   "execution_count": 2,
   "id": "fa5c8a63",
   "metadata": {},
   "outputs": [
    {
     "data": {
      "text/plain": [
       "'\\n......\\n|||||\\n'"
      ]
     },
     "execution_count": 2,
     "metadata": {},
     "output_type": "execute_result"
    }
   ],
   "source": [
    "\"\"\"\n",
    "......\n",
    "|||||\n",
    "\"\"\""
   ]
  },
  {
   "cell_type": "code",
   "execution_count": 4,
   "id": "349cdda9",
   "metadata": {},
   "outputs": [
    {
     "name": "stdout",
     "output_type": "stream",
     "text": [
      "HelloHelloHelloHelloHelloHelloHelloHelloHelloHello\n"
     ]
    }
   ],
   "source": [
    "print(\"Hello\" * 10)"
   ]
  },
  {
   "cell_type": "code",
   "execution_count": 7,
   "id": "97a8ea80",
   "metadata": {},
   "outputs": [
    {
     "data": {
      "text/plain": [
       "'THIS IS A PYTHON PROGRAM.'"
      ]
     },
     "execution_count": 7,
     "metadata": {},
     "output_type": "execute_result"
    }
   ],
   "source": [
    "str1 = \"This is a Python Program.\"\n",
    "str1.upper()"
   ]
  },
  {
   "cell_type": "code",
   "execution_count": 8,
   "id": "b91063ad",
   "metadata": {},
   "outputs": [
    {
     "name": "stdout",
     "output_type": "stream",
     "text": [
      "THIS IS A PYTHON PROGRAM.\n"
     ]
    }
   ],
   "source": [
    "print(str1.upper())"
   ]
  },
  {
   "cell_type": "code",
   "execution_count": 9,
   "id": "87f292e4",
   "metadata": {},
   "outputs": [
    {
     "name": "stdout",
     "output_type": "stream",
     "text": [
      "25\n"
     ]
    }
   ],
   "source": [
    "print(len(str1))"
   ]
  },
  {
   "cell_type": "code",
   "execution_count": 10,
   "id": "599b3f36",
   "metadata": {},
   "outputs": [
    {
     "data": {
      "text/plain": [
       "25"
      ]
     },
     "execution_count": 10,
     "metadata": {},
     "output_type": "execute_result"
    }
   ],
   "source": [
    "len(str1)"
   ]
  },
  {
   "cell_type": "code",
   "execution_count": 11,
   "id": "ddcaafd1",
   "metadata": {},
   "outputs": [
    {
     "name": "stdout",
     "output_type": "stream",
     "text": [
      "2\n",
      "2.3333333333333335\n",
      "1\n"
     ]
    }
   ],
   "source": [
    "print(7//3)\n",
    "print(7/3)\n",
    "print(7%3)"
   ]
  },
  {
   "cell_type": "code",
   "execution_count": 15,
   "id": "b5a7825a",
   "metadata": {},
   "outputs": [
    {
     "name": "stdout",
     "output_type": "stream",
     "text": [
      "출력결과: 49.35\n",
      "출력결과: 49.4\n",
      "출력결과: 49.350\n",
      "출력결과: 49.35\n"
     ]
    }
   ],
   "source": [
    "x = 10.5*4.7\n",
    "print(\"출력결과: {0}\".format(x))\n",
    "print(\"출력결과: {0:.1f}\".format(x))\n",
    "print(\"출력결과: {0:.3f}\".format(x))\n",
    "print(\"출력결과: {}\".format(x))"
   ]
  },
  {
   "cell_type": "code",
   "execution_count": 16,
   "id": "bfb32db4",
   "metadata": {},
   "outputs": [
    {
     "name": "stdout",
     "output_type": "stream",
     "text": [
      "정보입력: KWY\n"
     ]
    }
   ],
   "source": [
    "x = input('정보입력: ')"
   ]
  },
  {
   "cell_type": "code",
   "execution_count": 17,
   "id": "41ddd19d",
   "metadata": {},
   "outputs": [
    {
     "data": {
      "text/plain": [
       "'KWY'"
      ]
     },
     "execution_count": 17,
     "metadata": {},
     "output_type": "execute_result"
    }
   ],
   "source": [
    "x"
   ]
  },
  {
   "cell_type": "code",
   "execution_count": 18,
   "id": "907dd0d2",
   "metadata": {},
   "outputs": [
    {
     "name": "stdout",
     "output_type": "stream",
     "text": [
      "KWY\n"
     ]
    }
   ],
   "source": [
    "print(x)"
   ]
  },
  {
   "cell_type": "code",
   "execution_count": 19,
   "id": "d7f81745",
   "metadata": {},
   "outputs": [
    {
     "name": "stdout",
     "output_type": "stream",
     "text": [
      "정수 x = 1\n",
      "정수 y = 2\n",
      "정수 fx = 3\n",
      "정수 fy = 4\n"
     ]
    }
   ],
   "source": [
    "x = int(input(\"정수 x = \"))\n",
    "y = int(input(\"정수 y = \"))\n",
    "\n",
    "fx = float(input(\"정수 fx = \"))\n",
    "fy = float(input(\"정수 fy = \"))"
   ]
  },
  {
   "cell_type": "code",
   "execution_count": 26,
   "id": "93ae781f",
   "metadata": {},
   "outputs": [
    {
     "name": "stdout",
     "output_type": "stream",
     "text": [
      "정수 x = 500\n",
      "정수 y = 600\n"
     ]
    }
   ],
   "source": [
    "x = int(input(\"정수 x = \"))\n",
    "y = int(input(\"정수 y = \"))"
   ]
  },
  {
   "cell_type": "code",
   "execution_count": 27,
   "id": "eecb84fa",
   "metadata": {},
   "outputs": [
    {
     "name": "stdout",
     "output_type": "stream",
     "text": [
      "500 600\n"
     ]
    }
   ],
   "source": [
    "print(x, y)"
   ]
  },
  {
   "cell_type": "code",
   "execution_count": 29,
   "id": "db47000e",
   "metadata": {},
   "outputs": [
    {
     "name": "stdout",
     "output_type": "stream",
     "text": [
      "add 1100\n",
      "sub -100\n",
      "mul 300000\n",
      "div 0.8333333333333334\n"
     ]
    }
   ],
   "source": [
    "print(\"add\", x+y)\n",
    "print(\"sub\", x-y)\n",
    "print(\"mul\", x*y)\n",
    "print(\"div\", x/y)"
   ]
  },
  {
   "cell_type": "code",
   "execution_count": 31,
   "id": "7b65bdf7",
   "metadata": {},
   "outputs": [
    {
     "name": "stdout",
     "output_type": "stream",
     "text": [
      "정수 x = 7\n",
      "정수 y = 5\n",
      "7 + 5 = 12\n",
      "7 - 5 = 2\n",
      "7 * 5 = 35\n",
      "7 / 5 = 1.4\n"
     ]
    }
   ],
   "source": [
    "x = int(input(\"정수 x = \"))\n",
    "y = int(input(\"정수 y = \"))\n",
    "\n",
    "print(x, \"+\",y, '=', x+y)\n",
    "print(x, \"-\",y, '=', x-y)\n",
    "print(x, \"*\",y, '=', x*y)\n",
    "print(x, \"/\",y, '=', x/y)"
   ]
  },
  {
   "cell_type": "code",
   "execution_count": 34,
   "id": "7eb37614",
   "metadata": {},
   "outputs": [],
   "source": [
    "from math import exp, log, sqrt\n",
    "import re\n",
    "from datetime import date, time, datetime, timedelta"
   ]
  },
  {
   "cell_type": "code",
   "execution_count": 35,
   "id": "59a087a0",
   "metadata": {},
   "outputs": [
    {
     "data": {
      "text/plain": [
       "datetime.date(2022, 9, 19)"
      ]
     },
     "execution_count": 35,
     "metadata": {},
     "output_type": "execute_result"
    }
   ],
   "source": [
    "today = date.today()\n",
    "today"
   ]
  },
  {
   "cell_type": "code",
   "execution_count": 37,
   "id": "f8627446",
   "metadata": {},
   "outputs": [
    {
     "name": "stdout",
     "output_type": "stream",
     "text": [
      "today:2022-09-19\n"
     ]
    }
   ],
   "source": [
    "print(\"today:{0!s}\".format(today))"
   ]
  },
  {
   "cell_type": "code",
   "execution_count": 38,
   "id": "4cc31842",
   "metadata": {},
   "outputs": [
    {
     "data": {
      "text/plain": [
       "datetime.datetime(2022, 9, 19, 20, 6, 33, 343424)"
      ]
     },
     "execution_count": 38,
     "metadata": {},
     "output_type": "execute_result"
    }
   ],
   "source": [
    "today = datetime.today()\n",
    "today"
   ]
  },
  {
   "cell_type": "code",
   "execution_count": 39,
   "id": "a108261a",
   "metadata": {},
   "outputs": [
    {
     "name": "stdout",
     "output_type": "stream",
     "text": [
      "2022-09-19 20:06:33.343424\n"
     ]
    }
   ],
   "source": [
    "print(today)"
   ]
  },
  {
   "cell_type": "code",
   "execution_count": 40,
   "id": "bc1ec5a8",
   "metadata": {},
   "outputs": [],
   "source": [
    "a = []\n",
    "b = [1, 2, 3]\n",
    "c = ['Life', 'is', 'too', 'short']\n",
    "d = [1, 2 , 'Life', 'is']\n",
    "e = [1, 2, ['Life', 'is']]"
   ]
  },
  {
   "cell_type": "code",
   "execution_count": 41,
   "id": "92fc43e9",
   "metadata": {},
   "outputs": [
    {
     "data": {
      "text/plain": [
       "[1, 2, 'Life', 'is']"
      ]
     },
     "execution_count": 41,
     "metadata": {},
     "output_type": "execute_result"
    }
   ],
   "source": [
    "d"
   ]
  },
  {
   "cell_type": "code",
   "execution_count": 43,
   "id": "4dd2f20a",
   "metadata": {},
   "outputs": [
    {
     "name": "stdout",
     "output_type": "stream",
     "text": [
      "23\n",
      "4\n",
      "5\n",
      "67\n",
      "43\n",
      "12\n",
      "최종합:  154\n"
     ]
    }
   ],
   "source": [
    "sum = 0\n",
    "for data in [23, 4, 5, 67, 43, 12]:\n",
    "    sum += data\n",
    "    print(data)\n",
    "print(\"최종합: \", sum )"
   ]
  },
  {
   "cell_type": "code",
   "execution_count": 44,
   "id": "86413974",
   "metadata": {},
   "outputs": [
    {
     "data": {
      "text/plain": [
       "[1, 2, ['Life', 'is']]"
      ]
     },
     "execution_count": 44,
     "metadata": {},
     "output_type": "execute_result"
    }
   ],
   "source": [
    "e"
   ]
  },
  {
   "cell_type": "code",
   "execution_count": 46,
   "id": "fe1702e8",
   "metadata": {},
   "outputs": [
    {
     "name": "stdout",
     "output_type": "stream",
     "text": [
      "1\n",
      "['Life', 'is']\n",
      "Life\n"
     ]
    }
   ],
   "source": [
    "print(e[0])\n",
    "print(e[2])\n",
    "print(e[2][0])"
   ]
  },
  {
   "cell_type": "code",
   "execution_count": 49,
   "id": "489ebbf3",
   "metadata": {},
   "outputs": [],
   "source": [
    "mat1 = [\n",
    "    [1,2,3],\n",
    "    [4,6,5],\n",
    "    [7,8,9]\n",
    "    ]"
   ]
  },
  {
   "cell_type": "code",
   "execution_count": 50,
   "id": "a9a4e6e5",
   "metadata": {},
   "outputs": [
    {
     "data": {
      "text/plain": [
       "[[1, 2, 3], [4, 6, 5], [7, 8, 9]]"
      ]
     },
     "execution_count": 50,
     "metadata": {},
     "output_type": "execute_result"
    }
   ],
   "source": [
    "mat1"
   ]
  },
  {
   "cell_type": "code",
   "execution_count": 51,
   "id": "861310fb",
   "metadata": {},
   "outputs": [
    {
     "data": {
      "text/plain": [
       "[[0, 0, 0, 0], [0, 0, 0, 0], [0, 0, 0, 0]]"
      ]
     },
     "execution_count": 51,
     "metadata": {},
     "output_type": "execute_result"
    }
   ],
   "source": [
    "mat2 = [[0] * 4 for i in range(3)]\n",
    "mat2"
   ]
  },
  {
   "cell_type": "code",
   "execution_count": 53,
   "id": "b6ed0330",
   "metadata": {},
   "outputs": [
    {
     "name": "stdout",
     "output_type": "stream",
     "text": [
      "[[1, 2, 3], [4, 6, 5], [7, 8, 9]]\n",
      "[[0, 0, 0, 0], [0, 0, 0, 0], [0, 0, 0, 0]]\n",
      "[[1, 1, 1, 1], [1, 1, 1, 1], [1, 1, 1, 1]]\n"
     ]
    }
   ],
   "source": [
    "mat3 = []\n",
    "for i in range(3):\n",
    "    mat3.append([1] * 4)\n",
    "print(mat1)\n",
    "print(mat2)\n",
    "print(mat3)"
   ]
  },
  {
   "cell_type": "code",
   "execution_count": 55,
   "id": "65b7b678",
   "metadata": {},
   "outputs": [
    {
     "name": "stdout",
     "output_type": "stream",
     "text": [
      "[1, 2, 3, 7, 8, 9]\n",
      "[1, 2, 3, 1, 2, 3, 1, 2, 3, 1, 2, 3]\n",
      "7\n",
      "[7, 8]\n"
     ]
    }
   ],
   "source": [
    "a = [1, 2, 3]\n",
    "b = [7, 8, 9]\n",
    "print(a + b)\n",
    "print(a*4)\n",
    "print(b[0])\n",
    "print(b[0:2])"
   ]
  },
  {
   "cell_type": "code",
   "execution_count": 56,
   "id": "b977c1ff",
   "metadata": {},
   "outputs": [
    {
     "name": "stdout",
     "output_type": "stream",
     "text": [
      "jkladsjlk\n"
     ]
    }
   ],
   "source": [
    "if 1 in a:\n",
    "    print(\"jkladsjlk\")"
   ]
  },
  {
   "cell_type": "code",
   "execution_count": 60,
   "id": "e1a0c642",
   "metadata": {},
   "outputs": [
    {
     "name": "stdout",
     "output_type": "stream",
     "text": [
      "[1, 3, 2, 4]\n",
      "[1, 3, 2, 4, 4, 8]\n",
      "[1, 2, 3, 4, 4, 8]\n",
      "[8, 4, 4, 3, 2, 1]\n",
      "[8, 4, 7, 4, 3, 2, 1]\n",
      "4\n",
      "2\n"
     ]
    }
   ],
   "source": [
    "a = [1, 3, 2]\n",
    "a. append(4)\n",
    "print(a)\n",
    "\n",
    "a.extend([4, 8])\n",
    "print(a)\n",
    "\n",
    "a.sort()\n",
    "print(a)\n",
    "\n",
    "a.reverse()\n",
    "print(a)\n",
    "\n",
    "a.insert(2, 7)\n",
    "print(a)\n",
    "\n",
    "print(a.index(3))\n",
    "\n",
    "print(a.count(4))"
   ]
  },
  {
   "cell_type": "code",
   "execution_count": 61,
   "id": "b53f0c44",
   "metadata": {},
   "outputs": [
    {
     "name": "stdout",
     "output_type": "stream",
     "text": [
      "{'name': 'pey', 'birth': '1118'}\n",
      "pey\n",
      "pey\n"
     ]
    }
   ],
   "source": [
    "dic = {'name':'pey', 'birth':'1118'}\n",
    "print(dic)\n",
    "print(dic['name'])\n",
    "print(dic.get('name'))"
   ]
  },
  {
   "cell_type": "code",
   "execution_count": 62,
   "id": "55dcd2b4",
   "metadata": {},
   "outputs": [
    {
     "name": "stdout",
     "output_type": "stream",
     "text": [
      "name\n",
      "birth\n"
     ]
    }
   ],
   "source": [
    "for i in dic.keys():\n",
    "    print(i)"
   ]
  },
  {
   "cell_type": "code",
   "execution_count": 64,
   "id": "95e49ba7",
   "metadata": {},
   "outputs": [
    {
     "name": "stdout",
     "output_type": "stream",
     "text": [
      "dict_values(['pey', '1118'])\n"
     ]
    }
   ],
   "source": [
    "print(dic.values())"
   ]
  },
  {
   "cell_type": "code",
   "execution_count": 70,
   "id": "dab9cc6b",
   "metadata": {},
   "outputs": [
    {
     "name": "stdout",
     "output_type": "stream",
     "text": [
      "name\n",
      "<class 'str'>\n",
      "<class 'list'>\n",
      "birth\n",
      "<class 'str'>\n",
      "<class 'list'>\n",
      "['name', 'birth']\n",
      "('name', 'birth')\n",
      "<class 'tuple'>\n"
     ]
    }
   ],
   "source": [
    "lst = list(dic.keys())\n",
    "for i in lst:\n",
    "    print(i)\n",
    "    print(type(i))\n",
    "    print(type(lst))\n",
    "print(lst)\n",
    "tple = tuple(lst)\n",
    "print(tple)\n",
    "print(type(tple))"
   ]
  },
  {
   "cell_type": "code",
   "execution_count": 73,
   "id": "811e31fe",
   "metadata": {},
   "outputs": [
    {
     "name": "stdout",
     "output_type": "stream",
     "text": [
      "{1, 2, 3}\n",
      "{'o', 'H', 'l', 'e'}\n"
     ]
    }
   ],
   "source": [
    "s1 = set([1,2,3])\n",
    "print(s1)\n",
    "s2 = set(\"Hello\")\n",
    "print(s2)"
   ]
  },
  {
   "cell_type": "code",
   "execution_count": 74,
   "id": "0e3442aa",
   "metadata": {},
   "outputs": [
    {
     "name": "stdout",
     "output_type": "stream",
     "text": [
      "{4, 5, 6}\n",
      "{4, 5, 6}\n",
      "{1, 2, 3, 4, 5, 6, 7, 8, 9}\n",
      "{1, 2, 3, 4, 5, 6, 7, 8, 9}\n",
      "{1, 2, 3}\n",
      "{1, 2, 3}\n"
     ]
    }
   ],
   "source": [
    "s1 = set([1,2,3,4,5,6])\n",
    "s2 = set([4,5,6,7,8,9])\n",
    "print(s1&s2)\n",
    "print(s1.intersection(s2))\n",
    "print(s1|s2)\n",
    "print(s1.union(s2))\n",
    "print(s1-s2)\n",
    "print(s1.difference(s2))"
   ]
  },
  {
   "cell_type": "code",
   "execution_count": 75,
   "id": "c8616f3b",
   "metadata": {},
   "outputs": [
    {
     "data": {
      "text/plain": [
       "('python', 'life')"
      ]
     },
     "execution_count": 75,
     "metadata": {},
     "output_type": "execute_result"
    }
   ],
   "source": [
    "(a, b) = ('python', 'life')\n",
    "a, b"
   ]
  },
  {
   "cell_type": "code",
   "execution_count": 77,
   "id": "6005b2ab",
   "metadata": {},
   "outputs": [],
   "source": [
    "a = 5\n",
    "b = 3\n",
    "a,b = b,a"
   ]
  },
  {
   "cell_type": "code",
   "execution_count": 79,
   "id": "a3a9f5ae",
   "metadata": {},
   "outputs": [
    {
     "data": {
      "text/plain": [
       "(3, 5)"
      ]
     },
     "execution_count": 79,
     "metadata": {},
     "output_type": "execute_result"
    }
   ],
   "source": [
    "a,b"
   ]
  },
  {
   "cell_type": "code",
   "execution_count": 80,
   "id": "25c4c0b3",
   "metadata": {},
   "outputs": [],
   "source": [
    "del a"
   ]
  },
  {
   "cell_type": "code",
   "execution_count": 81,
   "id": "e5c585b2",
   "metadata": {},
   "outputs": [
    {
     "ename": "NameError",
     "evalue": "name 'a' is not defined",
     "output_type": "error",
     "traceback": [
      "\u001b[1;31m---------------------------------------------------------------------------\u001b[0m",
      "\u001b[1;31mNameError\u001b[0m                                 Traceback (most recent call last)",
      "\u001b[1;32m~\\AppData\\Local\\Temp\\ipykernel_20388\\2167009006.py\u001b[0m in \u001b[0;36m<module>\u001b[1;34m\u001b[0m\n\u001b[1;32m----> 1\u001b[1;33m \u001b[0ma\u001b[0m\u001b[1;33m\u001b[0m\u001b[1;33m\u001b[0m\u001b[0m\n\u001b[0m",
      "\u001b[1;31mNameError\u001b[0m: name 'a' is not defined"
     ]
    }
   ],
   "source": [
    "a"
   ]
  },
  {
   "cell_type": "code",
   "execution_count": null,
   "id": "0bc92762",
   "metadata": {},
   "outputs": [],
   "source": []
  }
 ],
 "metadata": {
  "kernelspec": {
   "display_name": "Python 3 (ipykernel)",
   "language": "python",
   "name": "python3"
  },
  "language_info": {
   "codemirror_mode": {
    "name": "ipython",
    "version": 3
   },
   "file_extension": ".py",
   "mimetype": "text/x-python",
   "name": "python",
   "nbconvert_exporter": "python",
   "pygments_lexer": "ipython3",
   "version": "3.7.13"
  }
 },
 "nbformat": 4,
 "nbformat_minor": 5
}
