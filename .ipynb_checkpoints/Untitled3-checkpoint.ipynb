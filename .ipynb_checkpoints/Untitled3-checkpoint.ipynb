{
 "cells": [
  {
   "cell_type": "code",
   "execution_count": 2,
   "id": "22da18dd",
   "metadata": {},
   "outputs": [],
   "source": [
    "# ====================================================\n",
    "# 0. 사용할 패키지 불러오기\n",
    "# ====================================================\n",
    "from glob import glob\n",
    "from os.path import isdir\n",
    "from tqdm import tqdm\n",
    "from sklearn.preprocessing import MinMaxScaler\n",
    "import matplotlib.pyplot as plt\n",
    "import pandas as pd\n",
    "import numpy as np\n",
    "\n",
    "# from keras import models\n",
    "# from keras import layers"
   ]
  },
  {
   "cell_type": "code",
   "execution_count": 3,
   "id": "94818778",
   "metadata": {},
   "outputs": [],
   "source": [
    "file_list = []\n",
    "for x in glob('./dd/new.csv'):\n",
    "    file_list.append(x)\n",
    "file_list.sort()"
   ]
  },
  {
   "cell_type": "code",
   "execution_count": 7,
   "id": "4077cadf",
   "metadata": {},
   "outputs": [],
   "source": [
    "full_dataset = pd.read_csv('./dd/new.csv', encoding='cp949')"
   ]
  },
  {
   "cell_type": "code",
   "execution_count": 15,
   "id": "842e3ca9",
   "metadata": {
    "scrolled": false
   },
   "outputs": [
    {
     "data": {
      "text/plain": [
       "Index(['MESURE_TME', 'CNTER_NM', 'AGE_FLAG_NM', 'MESURE_PLACE_FLAG_NM',\n",
       "       'MESURE_AGE_CO', 'INPT_FLAG_NM', 'COAW_FLAG_NM', 'MESURE_DE',\n",
       "       'MBER_SEXDSTN_FLAG_CD'],\n",
       "      dtype='object')"
      ]
     },
     "execution_count": 15,
     "metadata": {},
     "output_type": "execute_result"
    }
   ],
   "source": [
    "full_dataset.columns"
   ]
  },
  {
   "cell_type": "code",
   "execution_count": 11,
   "id": "7b2cefa1",
   "metadata": {},
   "outputs": [],
   "source": [
    "column_list = [\n",
    "    # 센터명, 측정 나이, 상장구분, 측정일, 성별\n",
    "    'CNTER_NM','AGE_FLAG_NM','CERT_GBN','TEST_YMD','TEST_SEX']\n",
    "youth_col = [\n",
    "    'ITEM_F001', #신장\n",
    "    'ITEM_F002', #체중\n",
    "    'ITEM_F003', #체지방율\n",
    "    'ITEM_F004', #허리둘레\n",
    "     # 건강체력항목\n",
    "    'ITEM_F020', #20m왕복 오래달리기 (심폐지구력_택1)\n",
    "    'ITEM_F009', #윗몸말아올리기 (근지구력_택1)\n",
    "#     'ITEM_F010', #반복점프 (근지구력_택1)\n",
    "    'ITEM_F012', #앉아윗몸앞으로굽히기 (유연성)\n",
    "            ]\n",
    "\n",
    "adult_col = [\n",
    "    'ITEM_F001', #신장\n",
    "    'ITEM_F002', #체중\n",
    "    'ITEM_F003', #체지방율\n",
    "    'ITEM_F004', #허리둘레\n",
    "     # 건강체력항목 \n",
    "    'ITEM_F020', #20m왕복 오래달리기 (심폐지구력_택1)\n",
    "    'ITEM_F019', #교차윗몸일으키기 (근지구력)\n",
    "    'ITEM_F012', #앉아윗몸앞으로굽히기 (유연성)\n",
    "\n",
    "     # 운동체력항목(민첩성 중 택1, 순발력 중 택1) / 3등급 평가시 제외\n",
    "#     'ITEM_F021', #왕복달리기(민첩성)\n",
    "#     'ITEM_F022', #제자리멀리뛰기 (순발력)\n",
    "            ]\n",
    "elder_col = [\n",
    "    'ITEM_F001', #신장\n",
    "    'ITEM_F002', #체중\n",
    "    'ITEM_F003', #체지방율\n",
    "    'ITEM_F004', #허리둘레\n",
    "     # 건강체력항목\n",
    "    'ITEM_F025', #2분제자리걷기 (심폐지구력_택1)\n",
    "    'ITEM_F023', #의자앉았다일어서기 (근기능)\n",
    "    'ITEM_F012', #앉아윗몸앞으로굽히기 (유연성)\n",
    "\n",
    "]"
   ]
  },
  {
   "cell_type": "code",
   "execution_count": 12,
   "id": "26189ed9",
   "metadata": {},
   "outputs": [],
   "source": [
    "youth_col = column_list + youth_col\n",
    "adult_col = column_list + adult_col\n",
    "elder_col = column_list + elder_col"
   ]
  },
  {
   "cell_type": "code",
   "execution_count": 16,
   "id": "f6725042",
   "metadata": {},
   "outputs": [
    {
     "data": {
      "text/plain": [
       "Index(['MESURE_TME', 'CNTER_NM', 'AGE_FLAG_NM', 'MESURE_PLACE_FLAG_NM',\n",
       "       'MESURE_AGE_CO', 'INPT_FLAG_NM', 'COAW_FLAG_NM', 'MESURE_DE',\n",
       "       'MBER_SEXDSTN_FLAG_CD'],\n",
       "      dtype='object')"
      ]
     },
     "execution_count": 16,
     "metadata": {},
     "output_type": "execute_result"
    }
   ],
   "source": [
    "full_dataset.columns"
   ]
  },
  {
   "cell_type": "code",
   "execution_count": 14,
   "id": "6fc012a1",
   "metadata": {},
   "outputs": [
    {
     "ename": "KeyError",
     "evalue": "\"['TEST_AGE', 'CERT_GBN', 'TEST_YMD', 'TEST_SEX', 'ITEM_F001', 'ITEM_F002', 'ITEM_F003', 'ITEM_F004', 'ITEM_F020', 'ITEM_F009', 'ITEM_F012'] not in index\"",
     "output_type": "error",
     "traceback": [
      "\u001b[1;31m---------------------------------------------------------------------------\u001b[0m",
      "\u001b[1;31mKeyError\u001b[0m                                  Traceback (most recent call last)",
      "\u001b[1;32mC:\\Users\\user\\AppData\\Local\\Temp\\ipykernel_23664\\3282881104.py\u001b[0m in \u001b[0;36m<module>\u001b[1;34m\u001b[0m\n\u001b[1;32m----> 1\u001b[1;33m \u001b[0myouth_dataset\u001b[0m \u001b[1;33m=\u001b[0m \u001b[0mfull_dataset\u001b[0m\u001b[1;33m[\u001b[0m\u001b[0mfull_dataset\u001b[0m\u001b[1;33m[\u001b[0m\u001b[1;34m'AGE_FLAG_NM'\u001b[0m\u001b[1;33m]\u001b[0m\u001b[1;33m==\u001b[0m\u001b[1;34m'청소년'\u001b[0m\u001b[1;33m]\u001b[0m\u001b[1;33m[\u001b[0m\u001b[0myouth_col\u001b[0m\u001b[1;33m]\u001b[0m\u001b[1;33m.\u001b[0m\u001b[0mreset_index\u001b[0m\u001b[1;33m(\u001b[0m\u001b[0mdrop\u001b[0m \u001b[1;33m=\u001b[0m \u001b[1;32mTrue\u001b[0m\u001b[1;33m)\u001b[0m\u001b[1;33m\u001b[0m\u001b[1;33m\u001b[0m\u001b[0m\n\u001b[0m\u001b[0;32m      2\u001b[0m \u001b[1;31m# adult_dataset = full_dataset[full_dataset['AGE_FLAG_NM']=='성인'][adult_col].reset_index(drop = True)\u001b[0m\u001b[1;33m\u001b[0m\u001b[1;33m\u001b[0m\u001b[1;33m\u001b[0m\u001b[0m\n\u001b[0;32m      3\u001b[0m \u001b[1;31m# elder_dataset = full_dataset[full_dataset['AGE_FLAG_NM']=='노인'][elder_col].reset_index(drop = True)\u001b[0m\u001b[1;33m\u001b[0m\u001b[1;33m\u001b[0m\u001b[1;33m\u001b[0m\u001b[0m\n",
      "\u001b[1;32mC:\\Users\\user\\anaconda3\\envs\\bigdata\\lib\\site-packages\\pandas\\core\\frame.py\u001b[0m in \u001b[0;36m__getitem__\u001b[1;34m(self, key)\u001b[0m\n\u001b[0;32m   3462\u001b[0m             \u001b[1;32mif\u001b[0m \u001b[0mis_iterator\u001b[0m\u001b[1;33m(\u001b[0m\u001b[0mkey\u001b[0m\u001b[1;33m)\u001b[0m\u001b[1;33m:\u001b[0m\u001b[1;33m\u001b[0m\u001b[1;33m\u001b[0m\u001b[0m\n\u001b[0;32m   3463\u001b[0m                 \u001b[0mkey\u001b[0m \u001b[1;33m=\u001b[0m \u001b[0mlist\u001b[0m\u001b[1;33m(\u001b[0m\u001b[0mkey\u001b[0m\u001b[1;33m)\u001b[0m\u001b[1;33m\u001b[0m\u001b[1;33m\u001b[0m\u001b[0m\n\u001b[1;32m-> 3464\u001b[1;33m             \u001b[0mindexer\u001b[0m \u001b[1;33m=\u001b[0m \u001b[0mself\u001b[0m\u001b[1;33m.\u001b[0m\u001b[0mloc\u001b[0m\u001b[1;33m.\u001b[0m\u001b[0m_get_listlike_indexer\u001b[0m\u001b[1;33m(\u001b[0m\u001b[0mkey\u001b[0m\u001b[1;33m,\u001b[0m \u001b[0maxis\u001b[0m\u001b[1;33m=\u001b[0m\u001b[1;36m1\u001b[0m\u001b[1;33m)\u001b[0m\u001b[1;33m[\u001b[0m\u001b[1;36m1\u001b[0m\u001b[1;33m]\u001b[0m\u001b[1;33m\u001b[0m\u001b[1;33m\u001b[0m\u001b[0m\n\u001b[0m\u001b[0;32m   3465\u001b[0m \u001b[1;33m\u001b[0m\u001b[0m\n\u001b[0;32m   3466\u001b[0m         \u001b[1;31m# take() does not accept boolean indexers\u001b[0m\u001b[1;33m\u001b[0m\u001b[1;33m\u001b[0m\u001b[1;33m\u001b[0m\u001b[0m\n",
      "\u001b[1;32mC:\\Users\\user\\anaconda3\\envs\\bigdata\\lib\\site-packages\\pandas\\core\\indexing.py\u001b[0m in \u001b[0;36m_get_listlike_indexer\u001b[1;34m(self, key, axis)\u001b[0m\n\u001b[0;32m   1312\u001b[0m             \u001b[0mkeyarr\u001b[0m\u001b[1;33m,\u001b[0m \u001b[0mindexer\u001b[0m\u001b[1;33m,\u001b[0m \u001b[0mnew_indexer\u001b[0m \u001b[1;33m=\u001b[0m \u001b[0max\u001b[0m\u001b[1;33m.\u001b[0m\u001b[0m_reindex_non_unique\u001b[0m\u001b[1;33m(\u001b[0m\u001b[0mkeyarr\u001b[0m\u001b[1;33m)\u001b[0m\u001b[1;33m\u001b[0m\u001b[1;33m\u001b[0m\u001b[0m\n\u001b[0;32m   1313\u001b[0m \u001b[1;33m\u001b[0m\u001b[0m\n\u001b[1;32m-> 1314\u001b[1;33m         \u001b[0mself\u001b[0m\u001b[1;33m.\u001b[0m\u001b[0m_validate_read_indexer\u001b[0m\u001b[1;33m(\u001b[0m\u001b[0mkeyarr\u001b[0m\u001b[1;33m,\u001b[0m \u001b[0mindexer\u001b[0m\u001b[1;33m,\u001b[0m \u001b[0maxis\u001b[0m\u001b[1;33m)\u001b[0m\u001b[1;33m\u001b[0m\u001b[1;33m\u001b[0m\u001b[0m\n\u001b[0m\u001b[0;32m   1315\u001b[0m \u001b[1;33m\u001b[0m\u001b[0m\n\u001b[0;32m   1316\u001b[0m         if needs_i8_conversion(ax.dtype) or isinstance(\n",
      "\u001b[1;32mC:\\Users\\user\\anaconda3\\envs\\bigdata\\lib\\site-packages\\pandas\\core\\indexing.py\u001b[0m in \u001b[0;36m_validate_read_indexer\u001b[1;34m(self, key, indexer, axis)\u001b[0m\n\u001b[0;32m   1375\u001b[0m \u001b[1;33m\u001b[0m\u001b[0m\n\u001b[0;32m   1376\u001b[0m             \u001b[0mnot_found\u001b[0m \u001b[1;33m=\u001b[0m \u001b[0mlist\u001b[0m\u001b[1;33m(\u001b[0m\u001b[0mensure_index\u001b[0m\u001b[1;33m(\u001b[0m\u001b[0mkey\u001b[0m\u001b[1;33m)\u001b[0m\u001b[1;33m[\u001b[0m\u001b[0mmissing_mask\u001b[0m\u001b[1;33m.\u001b[0m\u001b[0mnonzero\u001b[0m\u001b[1;33m(\u001b[0m\u001b[1;33m)\u001b[0m\u001b[1;33m[\u001b[0m\u001b[1;36m0\u001b[0m\u001b[1;33m]\u001b[0m\u001b[1;33m]\u001b[0m\u001b[1;33m.\u001b[0m\u001b[0munique\u001b[0m\u001b[1;33m(\u001b[0m\u001b[1;33m)\u001b[0m\u001b[1;33m)\u001b[0m\u001b[1;33m\u001b[0m\u001b[1;33m\u001b[0m\u001b[0m\n\u001b[1;32m-> 1377\u001b[1;33m             \u001b[1;32mraise\u001b[0m \u001b[0mKeyError\u001b[0m\u001b[1;33m(\u001b[0m\u001b[1;34mf\"{not_found} not in index\"\u001b[0m\u001b[1;33m)\u001b[0m\u001b[1;33m\u001b[0m\u001b[1;33m\u001b[0m\u001b[0m\n\u001b[0m\u001b[0;32m   1378\u001b[0m \u001b[1;33m\u001b[0m\u001b[0m\n\u001b[0;32m   1379\u001b[0m \u001b[1;33m\u001b[0m\u001b[0m\n",
      "\u001b[1;31mKeyError\u001b[0m: \"['TEST_AGE', 'CERT_GBN', 'TEST_YMD', 'TEST_SEX', 'ITEM_F001', 'ITEM_F002', 'ITEM_F003', 'ITEM_F004', 'ITEM_F020', 'ITEM_F009', 'ITEM_F012'] not in index\""
     ]
    }
   ],
   "source": [
    "youth_dataset = full_dataset[full_dataset['AGE_FLAG_NM']=='청소년'][youth_col].reset_index(drop = True)\n",
    "# adult_dataset = full_dataset[full_dataset['AGE_FLAG_NM']=='성인'][adult_col].reset_index(drop = True)\n",
    "# elder_dataset = full_dataset[full_dataset['AGE_FLAG_NM']=='노인'][elder_col].reset_index(drop = True)"
   ]
  },
  {
   "cell_type": "code",
   "execution_count": null,
   "id": "a865106d",
   "metadata": {
    "scrolled": false
   },
   "outputs": [],
   "source": [
    "adult_full = full_dataset_r[full_dataset_r['AGE_FLAG_NM']=='성인']\n",
    "youth_full = full_dataset_r[full_dataset_r['AGE_FLAG_NM']=='청소년']\n",
    "elder_full = full_dataset_r[full_dataset_r['AGE_FLAG_NM']=='노인']"
   ]
  },
  {
   "cell_type": "code",
   "execution_count": null,
   "id": "608c6c7c",
   "metadata": {},
   "outputs": [],
   "source": [
    "adult_full"
   ]
  },
  {
   "cell_type": "code",
   "execution_count": null,
   "id": "47353c90",
   "metadata": {},
   "outputs": [],
   "source": [
    "elder_full"
   ]
  },
  {
   "cell_type": "code",
   "execution_count": null,
   "id": "fe67c2d4",
   "metadata": {},
   "outputs": [],
   "source": [
    "adult_full.head()"
   ]
  },
  {
   "cell_type": "code",
   "execution_count": null,
   "id": "00c79e26",
   "metadata": {},
   "outputs": [],
   "source": [
    "# 분석에 사용할 컬럼 리스트\n",
    "\n",
    "column_list = [\n",
    "    # 센터명, 측정 나이, 상장구분, 측정일, 성별\n",
    "    'CENTER_NM','TEST_AGE','CERT_GBN','TEST_YMD','TEST_SEX']\n",
    "youth_col = [\n",
    "    'ITEM_F001', #신장\n",
    "    'ITEM_F002', #체중\n",
    "    'ITEM_F003', #체지방율\n",
    "    'ITEM_F004', #허리둘레\n",
    "     # 건강체력항목\n",
    "    'ITEM_F020', #20m왕복 오래달리기 (심폐지구력_택1)\n",
    "    'ITEM_F009', #윗몸말아올리기 (근지구력_택1)\n",
    "#     'ITEM_F010', #반복점프 (근지구력_택1)\n",
    "    'ITEM_F012', #앉아윗몸앞으로굽히기 (유연성)\n",
    "            ]\n",
    "\n",
    "adult_col = [\n",
    "    'ITEM_F001', #신장\n",
    "    'ITEM_F002', #체중\n",
    "    'ITEM_F003', #체지방율\n",
    "    'ITEM_F004', #허리둘레\n",
    "     # 건강체력항목 \n",
    "    'ITEM_F020', #20m왕복 오래달리기 (심폐지구력_택1)\n",
    "    'ITEM_F019', #교차윗몸일으키기 (근지구력)\n",
    "    'ITEM_F012', #앉아윗몸앞으로굽히기 (유연성)\n",
    "\n",
    "     # 운동체력항목(민첩성 중 택1, 순발력 중 택1) / 3등급 평가시 제외\n",
    "#     'ITEM_F021', #왕복달리기(민첩성)\n",
    "#     'ITEM_F022', #제자리멀리뛰기 (순발력)\n",
    "            ]\n",
    "elder_col = [\n",
    "    'ITEM_F001', #신장\n",
    "    'ITEM_F002', #체중\n",
    "    'ITEM_F003', #체지방율\n",
    "    'ITEM_F004', #허리둘레\n",
    "     # 건강체력항목\n",
    "    'ITEM_F025', #2분제자리걷기 (심폐지구력_택1)\n",
    "    'ITEM_F023', #의자앉았다일어서기 (근기능)\n",
    "    'ITEM_F012', #앉아윗몸앞으로굽히기 (유연성)\n",
    "\n",
    "     # 운동체력항목\n",
    "#     'ITEM_F026', #의자앉아3m표적돌아오기 (평형성)\n",
    "#     'ITEM_F027', #8자보행(협응력)\n",
    "            ]"
   ]
  },
  {
   "cell_type": "code",
   "execution_count": null,
   "id": "20951b3d",
   "metadata": {},
   "outputs": [],
   "source": [
    "# 청소년 / 성인 / 노년층 사용 컬럼 리스트 지정\n",
    "youth_col = column_list + youth_col\n",
    "adult_col = column_list + adult_col\n",
    "elder_col = column_list + elder_col"
   ]
  },
  {
   "cell_type": "code",
   "execution_count": null,
   "id": "ff3175eb",
   "metadata": {},
   "outputs": [],
   "source": [
    "column_list"
   ]
  },
  {
   "cell_type": "code",
   "execution_count": null,
   "id": "3858b8c4",
   "metadata": {},
   "outputs": [],
   "source": [
    "youth_col"
   ]
  },
  {
   "cell_type": "code",
   "execution_count": null,
   "id": "2a7fda7c",
   "metadata": {
    "scrolled": true
   },
   "outputs": [],
   "source": [
    "full_dataset[full_dataset['AGE_FLAG_NM']=='청소년']"
   ]
  },
  {
   "cell_type": "code",
   "execution_count": null,
   "id": "0698f6d6",
   "metadata": {},
   "outputs": [],
   "source": [
    "youth_dataset = full_dataset[full_dataset['AGE_FLAG_NM']=='청소년']\n",
    "adult_dataset = full_dataset[full_dataset['AGE_FLAG_NM']=='성인']\n",
    "elder_dataset = full_dataset[full_dataset['AGE_FLAG_NM']=='노인']"
   ]
  },
  {
   "cell_type": "code",
   "execution_count": null,
   "id": "140da5d1",
   "metadata": {},
   "outputs": [],
   "source": [
    "youth_dataset = youth_dataset.dropna(axis=0).reset_index(drop = True)\n",
    "adult_dataset = adult_dataset.dropna(axis=0).reset_index(drop = True)\n",
    "elder_dataset = elder_dataset.dropna(axis=0).reset_index(drop = True)\n",
    "len(youth_dataset), len(adult_dataset),len(elder_dataset)"
   ]
  },
  {
   "cell_type": "code",
   "execution_count": null,
   "id": "d1320b86",
   "metadata": {},
   "outputs": [],
   "source": []
  },
  {
   "cell_type": "code",
   "execution_count": null,
   "id": "dbf82462",
   "metadata": {},
   "outputs": [],
   "source": [
    "youth_dataset"
   ]
  },
  {
   "cell_type": "code",
   "execution_count": null,
   "id": "15a77e2b",
   "metadata": {},
   "outputs": [],
   "source": [
    "# 청소년 / 성인 / 노인 데이터셋\n",
    "youth_dataset = full_dataset[full_dataset['AGE_FLAG_NM']=='청소년'][youth_col]\n",
    "adult_dataset = full_dataset[full_dataset['AGE_FLAG_NM']=='성인'][adult_col]\n",
    "elder_dataset = full_dataset[full_dataset['AGE_FLAG_NM']=='노인'][elder_col]"
   ]
  },
  {
   "cell_type": "code",
   "execution_count": null,
   "id": "0c6f14aa",
   "metadata": {},
   "outputs": [],
   "source": [
    "import pandas as pd\n",
    "\n",
    "df = pd.DataFrame({'name': ['Alice','Bob','Charlie','Dave','Ellen','Frank'],\n",
    "                   'age': [24,42,18,68,24,30],\n",
    "                   'state': ['NY','CA','CA','TX','CA','NY'],\n",
    "                   'point': [64,24,70,70,88,57]}\n",
    "                  )"
   ]
  },
  {
   "cell_type": "code",
   "execution_count": null,
   "id": "8acd98fd",
   "metadata": {},
   "outputs": [],
   "source": [
    "df"
   ]
  },
  {
   "cell_type": "code",
   "execution_count": null,
   "id": "6182fc79",
   "metadata": {},
   "outputs": [],
   "source": [
    "print(df)"
   ]
  },
  {
   "cell_type": "code",
   "execution_count": null,
   "id": "e16663e8",
   "metadata": {},
   "outputs": [],
   "source": [
    "df_r = df.reset_index()\n",
    "print(df_r)"
   ]
  },
  {
   "cell_type": "code",
   "execution_count": null,
   "id": "43e87ecc",
   "metadata": {},
   "outputs": [],
   "source": [
    "df_r"
   ]
  },
  {
   "cell_type": "code",
   "execution_count": null,
   "id": "97b9690d",
   "metadata": {},
   "outputs": [],
   "source": [
    "df.set_index('name', inplace=True)"
   ]
  },
  {
   "cell_type": "code",
   "execution_count": null,
   "id": "de4e2f7d",
   "metadata": {},
   "outputs": [],
   "source": [
    "df.set_index"
   ]
  },
  {
   "cell_type": "code",
   "execution_count": null,
   "id": "61fa1c0d",
   "metadata": {},
   "outputs": [],
   "source": [
    "df.reset_index()"
   ]
  },
  {
   "cell_type": "code",
   "execution_count": null,
   "id": "d8ab1089",
   "metadata": {},
   "outputs": [],
   "source": [
    "df"
   ]
  },
  {
   "cell_type": "code",
   "execution_count": null,
   "id": "f56684be",
   "metadata": {},
   "outputs": [],
   "source": []
  }
 ],
 "metadata": {
  "kernelspec": {
   "display_name": "Python 3 (ipykernel)",
   "language": "python",
   "name": "python3"
  },
  "language_info": {
   "codemirror_mode": {
    "name": "ipython",
    "version": 3
   },
   "file_extension": ".py",
   "mimetype": "text/x-python",
   "name": "python",
   "nbconvert_exporter": "python",
   "pygments_lexer": "ipython3",
   "version": "3.7.13"
  }
 },
 "nbformat": 4,
 "nbformat_minor": 5
}
