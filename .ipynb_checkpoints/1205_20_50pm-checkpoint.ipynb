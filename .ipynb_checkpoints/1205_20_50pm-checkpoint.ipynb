{
 "cells": [
  {
   "cell_type": "code",
   "execution_count": 16,
   "id": "64d2fded",
   "metadata": {},
   "outputs": [
    {
     "name": "stdout",
     "output_type": "stream",
     "text": [
      "Labels:  [1 2 0 1 0 0 2 1]\n",
      "Cluster Centers:  [[7.         4.33333333]\n",
      " [3.66666667 9.        ]\n",
      " [1.5        3.5       ]]\n",
      "Predict Values:  [2]\n"
     ]
    }
   ],
   "source": [
    "from sklearn.cluster import KMeans\n",
    "import numpy as np\n",
    "\n",
    "X = np.array([[2, 10], [2, 5], [8, 4],[5, 8], [7, 5], [6, 4], [1, 2], [4, 9]])\n",
    "kmeans = KMeans(n_clusters=3).fit(X)\n",
    "print(\"Labels: \", kmeans.labels_)\n",
    "print(\"Cluster Centers: \", kmeans.cluster_centers_)\n",
    "print(\"Predict Values: \", kmeans.predict([[1, 1]]))"
   ]
  },
  {
   "cell_type": "code",
   "execution_count": null,
   "id": "dfdd4a4f",
   "metadata": {},
   "outputs": [],
   "source": []
  }
 ],
 "metadata": {
  "kernelspec": {
   "display_name": "Python 3 (ipykernel)",
   "language": "python",
   "name": "python3"
  },
  "language_info": {
   "codemirror_mode": {
    "name": "ipython",
    "version": 3
   },
   "file_extension": ".py",
   "mimetype": "text/x-python",
   "name": "python",
   "nbconvert_exporter": "python",
   "pygments_lexer": "ipython3",
   "version": "3.7.13"
  }
 },
 "nbformat": 4,
 "nbformat_minor": 5
}
